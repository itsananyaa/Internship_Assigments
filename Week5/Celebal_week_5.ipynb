{
  "nbformat": 4,
  "nbformat_minor": 0,
  "metadata": {
    "colab": {
      "provenance": []
    },
    "kernelspec": {
      "name": "python3",
      "display_name": "Python 3"
    },
    "language_info": {
      "name": "python"
    }
  },
  "cells": [
    {
      "cell_type": "code",
      "execution_count": 2,
      "metadata": {
        "id": "WuHYqie5ubDA"
      },
      "outputs": [],
      "source": [
        "import pandas as pd\n",
        "from sklearn.impute import SimpleImputer\n",
        "from sklearn.preprocessing import StandardScaler\n",
        "import numpy as np"
      ]
    },
    {
      "cell_type": "code",
      "source": [
        "train_df = pd.read_csv('train.csv')\n",
        "test_df = pd.read_csv('test.csv')\n",
        "gender_submission_df = pd.read_csv('gender_submission.csv')"
      ],
      "metadata": {
        "id": "qyagzph0vbDk"
      },
      "execution_count": 3,
      "outputs": []
    },
    {
      "cell_type": "code",
      "source": [
        "print(\"Train Dataset Head:\")\n",
        "print(train_df.head())\n",
        "\n",
        "print(\"\\nTest Dataset Head:\")\n",
        "print(test_df.head())\n",
        "\n",
        "print(\"\\nGender Submission Dataset Head:\")\n",
        "print(gender_submission_df.head())\n"
      ],
      "metadata": {
        "colab": {
          "base_uri": "https://localhost:8080/"
        },
        "id": "5-2e4zfyvbGd",
        "outputId": "bb1624cc-cf4e-460d-921f-d41163bdf1b1"
      },
      "execution_count": 4,
      "outputs": [
        {
          "output_type": "stream",
          "name": "stdout",
          "text": [
            "Train Dataset Head:\n",
            "   PassengerId  Survived  Pclass  \\\n",
            "0            1         0       3   \n",
            "1            2         1       1   \n",
            "2            3         1       3   \n",
            "3            4         1       1   \n",
            "4            5         0       3   \n",
            "\n",
            "                                                Name     Sex   Age  SibSp  \\\n",
            "0                            Braund, Mr. Owen Harris    male  22.0      1   \n",
            "1  Cumings, Mrs. John Bradley (Florence Briggs Th...  female  38.0      1   \n",
            "2                             Heikkinen, Miss. Laina  female  26.0      0   \n",
            "3       Futrelle, Mrs. Jacques Heath (Lily May Peel)  female  35.0      1   \n",
            "4                           Allen, Mr. William Henry    male  35.0      0   \n",
            "\n",
            "   Parch            Ticket     Fare Cabin Embarked  \n",
            "0      0         A/5 21171   7.2500   NaN        S  \n",
            "1      0          PC 17599  71.2833   C85        C  \n",
            "2      0  STON/O2. 3101282   7.9250   NaN        S  \n",
            "3      0            113803  53.1000  C123        S  \n",
            "4      0            373450   8.0500   NaN        S  \n",
            "\n",
            "Test Dataset Head:\n",
            "   PassengerId  Pclass                                          Name     Sex  \\\n",
            "0          892       3                              Kelly, Mr. James    male   \n",
            "1          893       3              Wilkes, Mrs. James (Ellen Needs)  female   \n",
            "2          894       2                     Myles, Mr. Thomas Francis    male   \n",
            "3          895       3                              Wirz, Mr. Albert    male   \n",
            "4          896       3  Hirvonen, Mrs. Alexander (Helga E Lindqvist)  female   \n",
            "\n",
            "    Age  SibSp  Parch   Ticket     Fare Cabin Embarked  \n",
            "0  34.5      0      0   330911   7.8292   NaN        Q  \n",
            "1  47.0      1      0   363272   7.0000   NaN        S  \n",
            "2  62.0      0      0   240276   9.6875   NaN        Q  \n",
            "3  27.0      0      0   315154   8.6625   NaN        S  \n",
            "4  22.0      1      1  3101298  12.2875   NaN        S  \n",
            "\n",
            "Gender Submission Dataset Head:\n",
            "   PassengerId  Survived\n",
            "0          892         0\n",
            "1          893         1\n",
            "2          894         0\n",
            "3          895         0\n",
            "4          896         1\n"
          ]
        }
      ]
    },
    {
      "cell_type": "code",
      "source": [
        "print(\"\\nMissing Values in Train Dataset:\")\n",
        "print(train_df.isnull().sum())"
      ],
      "metadata": {
        "colab": {
          "base_uri": "https://localhost:8080/"
        },
        "id": "o3w5BVp1vbJV",
        "outputId": "d0619293-ec87-47f1-9605-158aba55e45b"
      },
      "execution_count": 5,
      "outputs": [
        {
          "output_type": "stream",
          "name": "stdout",
          "text": [
            "\n",
            "Missing Values in Train Dataset:\n",
            "PassengerId      0\n",
            "Survived         0\n",
            "Pclass           0\n",
            "Name             0\n",
            "Sex              0\n",
            "Age            177\n",
            "SibSp            0\n",
            "Parch            0\n",
            "Ticket           0\n",
            "Fare             0\n",
            "Cabin          687\n",
            "Embarked         2\n",
            "dtype: int64\n"
          ]
        }
      ]
    },
    {
      "cell_type": "code",
      "source": [
        "print(\"\\nMissing Values in Test Dataset:\")\n",
        "print(test_df.isnull().sum())"
      ],
      "metadata": {
        "colab": {
          "base_uri": "https://localhost:8080/"
        },
        "id": "st_SBSwrvbMP",
        "outputId": "49cb1df5-2377-4827-df2e-f3e0b618b842"
      },
      "execution_count": 6,
      "outputs": [
        {
          "output_type": "stream",
          "name": "stdout",
          "text": [
            "\n",
            "Missing Values in Test Dataset:\n",
            "PassengerId      0\n",
            "Pclass           0\n",
            "Name             0\n",
            "Sex              0\n",
            "Age             86\n",
            "SibSp            0\n",
            "Parch            0\n",
            "Ticket           0\n",
            "Fare             1\n",
            "Cabin          327\n",
            "Embarked         0\n",
            "dtype: int64\n"
          ]
        }
      ]
    },
    {
      "cell_type": "code",
      "source": [
        "imputer_age = SimpleImputer(strategy='median')\n",
        "train_df['Age'] = imputer_age.fit_transform(train_df[['Age']])\n",
        "test_df['Age'] = imputer_age.transform(test_df[['Age']])"
      ],
      "metadata": {
        "id": "PzJoYue3vbPZ"
      },
      "execution_count": 7,
      "outputs": []
    },
    {
      "cell_type": "code",
      "source": [
        "imputer_embarked = SimpleImputer(strategy='most_frequent')\n",
        "train_df['Embarked'] = imputer_embarked.fit_transform(train_df[['Embarked']])[:, 0] # Extract the first (and only) column from the 2D result"
      ],
      "metadata": {
        "id": "Rch1aFabvbSM"
      },
      "execution_count": 9,
      "outputs": []
    },
    {
      "cell_type": "code",
      "source": [
        "imputer_fare = SimpleImputer(strategy='median')\n",
        "test_df['Fare'] = imputer_fare.fit_transform(test_df[['Fare']])"
      ],
      "metadata": {
        "id": "uNUiumplvbU3"
      },
      "execution_count": 10,
      "outputs": []
    },
    {
      "cell_type": "code",
      "source": [
        "train_df['Cabin'].fillna('Missing', inplace=True)\n",
        "test_df['Cabin'].fillna('Missing', inplace=True)"
      ],
      "metadata": {
        "id": "TbrDon0bvbYc"
      },
      "execution_count": 11,
      "outputs": []
    },
    {
      "cell_type": "code",
      "source": [
        "print(\"\\nMissing Values in Train Dataset After Imputation:\")\n",
        "print(train_df.isnull().sum())\n",
        "\n",
        "print(\"\\nMissing Values in Test Dataset After Imputation:\")\n",
        "print(test_df.isnull().sum())"
      ],
      "metadata": {
        "colab": {
          "base_uri": "https://localhost:8080/"
        },
        "id": "uPRHzIDQyk6V",
        "outputId": "a5553ccd-d54e-434a-c2fd-d2ad95275a8a"
      },
      "execution_count": 12,
      "outputs": [
        {
          "output_type": "stream",
          "name": "stdout",
          "text": [
            "\n",
            "Missing Values in Train Dataset After Imputation:\n",
            "PassengerId    0\n",
            "Survived       0\n",
            "Pclass         0\n",
            "Name           0\n",
            "Sex            0\n",
            "Age            0\n",
            "SibSp          0\n",
            "Parch          0\n",
            "Ticket         0\n",
            "Fare           0\n",
            "Cabin          0\n",
            "Embarked       0\n",
            "dtype: int64\n",
            "\n",
            "Missing Values in Test Dataset After Imputation:\n",
            "PassengerId    0\n",
            "Pclass         0\n",
            "Name           0\n",
            "Sex            0\n",
            "Age            0\n",
            "SibSp          0\n",
            "Parch          0\n",
            "Ticket         0\n",
            "Fare           0\n",
            "Cabin          0\n",
            "Embarked       0\n",
            "dtype: int64\n"
          ]
        }
      ]
    },
    {
      "cell_type": "code",
      "source": [
        "train_df['Title'] = train_df['Name'].str.extract(' ([A-Za-z]+)\\.', expand=False)\n",
        "test_df['Title'] = test_df['Name'].str.extract(' ([A-Za-z]+)\\.', expand=False)"
      ],
      "metadata": {
        "id": "pGX959ERyk9Z"
      },
      "execution_count": 13,
      "outputs": []
    },
    {
      "cell_type": "code",
      "source": [
        "rare_titles = train_df['Title'].value_counts() < 10\n",
        "train_df['Title'] = train_df['Title'].apply(lambda x: 'Rare' if rare_titles[x] else x)\n",
        "test_df['Title'] = test_df['Title'].apply(lambda x: 'Rare' if x not in train_df['Title'].unique() else x)"
      ],
      "metadata": {
        "id": "XXyd45_tylAM"
      },
      "execution_count": 14,
      "outputs": []
    },
    {
      "cell_type": "code",
      "source": [
        "train_df['FamilySize'] = train_df['SibSp'] + train_df['Parch'] + 1\n",
        "test_df['FamilySize'] = test_df['SibSp'] + test_df['Parch'] + 1"
      ],
      "metadata": {
        "id": "GaqG-tL4ylC2"
      },
      "execution_count": 15,
      "outputs": []
    },
    {
      "cell_type": "code",
      "source": [
        "train_df['IsAlone'] = np.where(train_df['FamilySize'] == 1, 1, 0)\n",
        "test_df['IsAlone'] = np.where(test_df['FamilySize'] == 1, 1, 0)"
      ],
      "metadata": {
        "id": "Yqd5j-3OylFZ"
      },
      "execution_count": 16,
      "outputs": []
    },
    {
      "cell_type": "code",
      "source": [
        "categorical_features = ['Sex', 'Embarked', 'Cabin', 'Title']\n",
        "train_df = pd.get_dummies(train_df, columns=categorical_features, drop_first=True)\n",
        "test_df = pd.get_dummies(test_df, columns=categorical_features, drop_first=True)"
      ],
      "metadata": {
        "id": "ReOSuAsiylIA"
      },
      "execution_count": 17,
      "outputs": []
    },
    {
      "cell_type": "code",
      "source": [
        "train_df, test_df = train_df.align(test_df, join='left', axis=1, fill_value=0)"
      ],
      "metadata": {
        "id": "FZyznGBbylKb"
      },
      "execution_count": 18,
      "outputs": []
    },
    {
      "cell_type": "code",
      "source": [
        "scaler = StandardScaler()\n",
        "train_df[['Age', 'Fare']] = scaler.fit_transform(train_df[['Age', 'Fare']])\n",
        "test_df[['Age', 'Fare']] = scaler.transform(test_df[['Age', 'Fare']])"
      ],
      "metadata": {
        "id": "610kIXwtylN-"
      },
      "execution_count": 19,
      "outputs": []
    },
    {
      "cell_type": "code",
      "source": [
        "print(\"\\nProcessed Train Dataset Head:\")\n",
        "print(train_df.head())\n",
        "\n",
        "print(\"\\nProcessed Test Dataset Head:\")\n",
        "print(test_df.head())"
      ],
      "metadata": {
        "colab": {
          "base_uri": "https://localhost:8080/"
        },
        "id": "GoeArJWAzBRN",
        "outputId": "90c9983f-d3db-477f-ea02-9313f2bef35d"
      },
      "execution_count": 20,
      "outputs": [
        {
          "output_type": "stream",
          "name": "stdout",
          "text": [
            "\n",
            "Processed Train Dataset Head:\n",
            "   PassengerId  Survived  Pclass  \\\n",
            "0            1         0       3   \n",
            "1            2         1       1   \n",
            "2            3         1       3   \n",
            "3            4         1       1   \n",
            "4            5         0       3   \n",
            "\n",
            "                                                Name       Age  SibSp  Parch  \\\n",
            "0                            Braund, Mr. Owen Harris -0.565736      1      0   \n",
            "1  Cumings, Mrs. John Bradley (Florence Briggs Th...  0.663861      1      0   \n",
            "2                             Heikkinen, Miss. Laina -0.258337      0      0   \n",
            "3       Futrelle, Mrs. Jacques Heath (Lily May Peel)  0.433312      1      0   \n",
            "4                           Allen, Mr. William Henry  0.433312      0      0   \n",
            "\n",
            "             Ticket      Fare  FamilySize  ...  Cabin_F33  Cabin_F38  \\\n",
            "0         A/5 21171 -0.502445           2  ...      False      False   \n",
            "1          PC 17599  0.786845           2  ...      False      False   \n",
            "2  STON/O2. 3101282 -0.488854           1  ...      False      False   \n",
            "3            113803  0.420730           2  ...      False      False   \n",
            "4            373450 -0.486337           1  ...      False      False   \n",
            "\n",
            "   Cabin_F4  Cabin_G6  Cabin_Missing  Cabin_T  Title_Miss  Title_Mr  \\\n",
            "0     False     False           True    False       False      True   \n",
            "1     False     False          False    False       False     False   \n",
            "2     False     False           True    False        True     False   \n",
            "3     False     False          False    False       False     False   \n",
            "4     False     False           True    False       False      True   \n",
            "\n",
            "   Title_Mrs  Title_Rare  \n",
            "0      False       False  \n",
            "1       True       False  \n",
            "2      False       False  \n",
            "3       True       False  \n",
            "4      False       False  \n",
            "\n",
            "[5 rows x 165 columns]\n",
            "\n",
            "Processed Test Dataset Head:\n",
            "   PassengerId  Survived  Pclass  \\\n",
            "0          892         0       3   \n",
            "1          893         0       3   \n",
            "2          894         0       2   \n",
            "3          895         0       3   \n",
            "4          896         0       3   \n",
            "\n",
            "                                           Name       Age  SibSp  Parch  \\\n",
            "0                              Kelly, Mr. James  0.394887      0      0   \n",
            "1              Wilkes, Mrs. James (Ellen Needs)  1.355510      1      0   \n",
            "2                     Myles, Mr. Thomas Francis  2.508257      0      0   \n",
            "3                              Wirz, Mr. Albert -0.181487      0      0   \n",
            "4  Hirvonen, Mrs. Alexander (Helga E Lindqvist) -0.565736      1      1   \n",
            "\n",
            "    Ticket      Fare  FamilySize  ...  Cabin_F33  Cabin_F38  Cabin_F4  \\\n",
            "0   330911 -0.490783           1  ...      False          0     False   \n",
            "1   363272 -0.507479           2  ...      False          0     False   \n",
            "2   240276 -0.453367           1  ...      False          0     False   \n",
            "3   315154 -0.474005           1  ...      False          0     False   \n",
            "4  3101298 -0.401017           3  ...      False          0     False   \n",
            "\n",
            "   Cabin_G6  Cabin_Missing  Cabin_T  Title_Miss  Title_Mr  Title_Mrs  \\\n",
            "0     False           True        0       False      True      False   \n",
            "1     False           True        0       False     False       True   \n",
            "2     False           True        0       False      True      False   \n",
            "3     False           True        0       False      True      False   \n",
            "4     False           True        0       False     False       True   \n",
            "\n",
            "   Title_Rare  \n",
            "0       False  \n",
            "1       False  \n",
            "2       False  \n",
            "3       False  \n",
            "4       False  \n",
            "\n",
            "[5 rows x 165 columns]\n"
          ]
        }
      ]
    }
  ]
}